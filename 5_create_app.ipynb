{
 "cells": [
  {
   "cell_type": "markdown",
   "id": "93da14a4-2edc-4bcb-acef-b4c998901ffe",
   "metadata": {},
   "source": [
    "# Create a Dashboard Application using CML"
   ]
  },
  {
   "cell_type": "markdown",
   "id": "a6c90753-230d-4226-b3c5-0a8d3a5b9d1d",
   "metadata": {},
   "source": [
    "## Setup the CML API Client"
   ]
  },
  {
   "cell_type": "code",
   "execution_count": 3,
   "id": "dc061c33-5cd4-4441-bf1a-7aaef05e61bd",
   "metadata": {
    "tags": []
   },
   "outputs": [
    {
     "name": "stdout",
     "output_type": "stream",
     "text": [
      "{'next_page_token': '',\n",
      " 'runtimes': [{'description': 'Standard edition JupyterLab Python runtime '\n",
      "                              'provided by Cloudera',\n",
      "               'edition': 'Standard',\n",
      "               'editor': 'JupyterLab',\n",
      "               'full_version': '2023.05.1-b4',\n",
      "               'image_identifier': 'container.repository.cloudera.com/cloudera/cdsw/ml-runtime-jupyterlab-python3.10-standard:2023.05.1-b4',\n",
      "               'kernel': 'Python 3.10',\n",
      "               'register_user_id': 0,\n",
      "               'status': 'ENABLED'},\n",
      "              {'description': 'Standard edition JupyterLab Python runtime '\n",
      "                              'provided by Cloudera',\n",
      "               'edition': 'Standard',\n",
      "               'editor': 'JupyterLab',\n",
      "               'full_version': '2023.05.1-b4',\n",
      "               'image_identifier': 'docker.repository.cloudera.com/cloudera/cdsw/ml-runtime-jupyterlab-python3.10-standard:2023.05.1-b4',\n",
      "               'kernel': 'Python 3.10',\n",
      "               'register_user_id': 0,\n",
      "               'status': 'ENABLED'},\n",
      "              {'description': 'Standard edition JupyterLab Python runtime '\n",
      "                              'provided by Cloudera',\n",
      "               'edition': 'Standard',\n",
      "               'editor': 'JupyterLab',\n",
      "               'full_version': '2023.05.2-b7',\n",
      "               'image_identifier': 'docker.repository.cloudera.com/cloudera/cdsw/ml-runtime-jupyterlab-python3.10-standard:2023.05.2-b7',\n",
      "               'kernel': 'Python 3.10',\n",
      "               'register_user_id': 0,\n",
      "               'status': 'ENABLED'},\n",
      "              {'description': 'Standard edition JupyterLab Python runtime '\n",
      "                              'provided by Cloudera',\n",
      "               'edition': 'Standard',\n",
      "               'editor': 'JupyterLab',\n",
      "               'full_version': '2023.08.1-b6',\n",
      "               'image_identifier': 'docker.repository.cloudera.com/cloudera/cdsw/ml-runtime-jupyterlab-python3.10-standard:2023.08.1-b6',\n",
      "               'kernel': 'Python 3.10',\n",
      "               'register_user_id': 0,\n",
      "               'status': 'ENABLED'},\n",
      "              {'description': 'Standard edition JupyterLab Python runtime '\n",
      "                              'provided by Cloudera',\n",
      "               'edition': 'Standard',\n",
      "               'editor': 'JupyterLab',\n",
      "               'full_version': '2023.08.2-b8',\n",
      "               'image_identifier': 'docker.repository.cloudera.com/cloudera/cdsw/ml-runtime-jupyterlab-python3.10-standard:2023.08.2-b8',\n",
      "               'kernel': 'Python 3.10',\n",
      "               'register_user_id': 0,\n",
      "               'status': 'ENABLED'},\n",
      "              {'description': 'Standard edition JupyterLab Python runtime '\n",
      "                              'provided by Cloudera',\n",
      "               'edition': 'Standard',\n",
      "               'editor': 'JupyterLab',\n",
      "               'full_version': '2023.12.1-b8',\n",
      "               'image_identifier': 'docker.repository.cloudera.com/cloudera/cdsw/ml-runtime-jupyterlab-python3.10-standard:2023.12.1-b8',\n",
      "               'kernel': 'Python 3.10',\n",
      "               'register_user_id': 0,\n",
      "               'status': 'ENABLED'},\n",
      "              {'description': 'Standard edition JupyterLab Python runtime '\n",
      "                              'provided by Cloudera',\n",
      "               'edition': 'Standard',\n",
      "               'editor': 'JupyterLab',\n",
      "               'full_version': '2024.02.1-b4',\n",
      "               'image_identifier': 'docker.repository.cloudera.com/cloudera/cdsw/ml-runtime-jupyterlab-python3.10-standard:2024.02.1-b4',\n",
      "               'kernel': 'Python 3.10',\n",
      "               'register_user_id': 0,\n",
      "               'status': 'ENABLED'}]}\n",
      "{'description': 'Standard edition JupyterLab Python runtime provided by '\n",
      "                'Cloudera',\n",
      " 'edition': 'Standard',\n",
      " 'editor': 'JupyterLab',\n",
      " 'full_version': '2023.05.1-b4',\n",
      " 'image_identifier': 'docker.repository.cloudera.com/cloudera/cdsw/ml-runtime-jupyterlab-python3.10-standard:2023.05.1-b4',\n",
      " 'kernel': 'Python 3.10',\n",
      " 'register_user_id': 0,\n",
      " 'status': 'ENABLED'}\n",
      "7\n",
      "docker.repository.cloudera.com/cloudera/cdsw/ml-runtime-jupyterlab-python3.10-standard:2024.02.1-b4\n"
     ]
    }
   ],
   "source": [
    "import os\n",
    "import cmlapi\n",
    "import random\n",
    "import string\n",
    "import json\n",
    "import random\n",
    "import string\n",
    "\n",
    "client = cmlapi.default_client(url=os.getenv(\"CDSW_API_URL\").replace(\"/api/v1\", \"\"), cml_api_key=os.getenv(\"CDSW_APIV2_KEY\"))\n",
    "available_runtimes = client.list_runtimes(search_filter=json.dumps({\n",
    "    \"kernel\": \"Python 3.10\",\n",
    "    \"edition\": \"Standard\",\n",
    "    \"editor\": \"JupyterLab\"\n",
    "}))\n",
    "print(available_runtimes)\n",
    "\n",
    "## Set available runtimes to the latest runtime in the environment (iterator is the number that begins with 0 and advances sequentially)\n",
    "## The JOB_IMAGE_ML_RUNTIME variable stores the ML Runtime which will be used to launch the job\n",
    "print(available_runtimes.runtimes[1])\n",
    "print(len(available_runtimes.runtimes))\n",
    "print(available_runtimes.runtimes[len(available_runtimes.runtimes)-1].image_identifier)\n",
    "APP_IMAGE_ML_RUNTIME = available_runtimes.runtimes[len(available_runtimes.runtimes)-1].image_identifier\n",
    "\n",
    "## Store the ML Runtime for any future jobs in an environment variable so we don't have to do this step again\n",
    "os.environ['APP_IMAGE_ML_RUNTIME'] = APP_IMAGE_ML_RUNTIME\n",
    "project = client.get_project(project_id=os.getenv(\"CDSW_PROJECT_ID\"))\n"
   ]
  },
  {
   "cell_type": "markdown",
   "id": "f9d95079-ca8f-4adf-b184-e6f95676bde9",
   "metadata": {},
   "source": [
    "## Deploy the Dashboard Application using CML API Client"
   ]
  },
  {
   "cell_type": "code",
   "execution_count": 4,
   "id": "a8ed9caa-c84d-4546-ac3b-eef0d35c1461",
   "metadata": {
    "tags": []
   },
   "outputs": [],
   "source": [
    "def get_random_string(length):\n",
    "    # this function prevents dupe app names\n",
    "    # choose from all lowercase letter\n",
    "    letters = string.ascii_lowercase\n",
    "    result_str = ''.join(random.choice(letters) for i in range(length))\n",
    "    return result_str\n",
    "\n",
    "application_request = cmlapi.CreateApplicationRequest(\n",
    "     name = \"BSHP Prediabetes Outcomes Dashboard\",\n",
    "     description = \"Dashboard interface for the Prediabetes Outcomes\",\n",
    "     project_id = project.id,\n",
    "     subdomain = \"bshp-\" + get_random_string(4),\n",
    "     script = \"dashboard_app.py\",\n",
    "     cpu = 2,\n",
    "     memory = 8,\n",
    "     runtime_identifier = os.getenv('APP_IMAGE_ML_RUNTIME')\n",
    ")\n",
    "\n",
    "app = client.create_application(\n",
    "     project_id = project.id,\n",
    "     body = application_request\n",
    ")"
   ]
  }
 ],
 "metadata": {
  "kernelspec": {
   "display_name": "Python 3 (ipykernel)",
   "language": "python",
   "name": "python3"
  },
  "language_info": {
   "codemirror_mode": {
    "name": "ipython",
    "version": 3
   },
   "file_extension": ".py",
   "mimetype": "text/x-python",
   "name": "python",
   "nbconvert_exporter": "python",
   "pygments_lexer": "ipython3",
   "version": "3.10.13"
  }
 },
 "nbformat": 4,
 "nbformat_minor": 5
}
