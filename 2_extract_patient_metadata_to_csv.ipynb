{
 "cells": [
  {
   "cell_type": "markdown",
   "id": "e11f4de6-348b-49a5-a0d9-dda0191d2997",
   "metadata": {},
   "source": [
    "# Extract the Patient Metadata"
   ]
  },
  {
   "cell_type": "code",
   "execution_count": 2,
   "id": "c5d4539c-df26-40f1-8fe6-aa4188dea71e",
   "metadata": {
    "tags": []
   },
   "outputs": [],
   "source": [
    "import json\n",
    "import csv\n",
    "import os\n",
    "\n",
    "def load_json(file_path):\n",
    "    \"\"\"Load JSON data from a file.\"\"\"\n",
    "    with open(file_path, 'r') as file:\n",
    "        return json.load(file)\n",
    "\n",
    "def extract_data(json_data):\n",
    "    \"\"\"Extract data from the first entry in the JSON into a flat dictionary.\"\"\"\n",
    "    results = {}\n",
    "    # Focus on the first entry only, if it exists\n",
    "    entry = json_data.get('entry', [{}])[0]  # Default to empty dict if no entries\n",
    "\n",
    "    # Recursive function to handle nested dictionaries\n",
    "    def flatten(data, prefix=''):\n",
    "        if isinstance(data, dict):\n",
    "            for key, value in data.items():\n",
    "                flatten(value, f\"{prefix}{key}_\")\n",
    "        elif isinstance(data, list):\n",
    "            for i, item in enumerate(data):\n",
    "                flatten(item, f\"{prefix}{i}_\")\n",
    "        else:\n",
    "            results[prefix[:-1]] = data\n",
    "\n",
    "    flatten(entry)\n",
    "    return results\n",
    "\n",
    "def write_to_csv(data_list, headers, output_file):\n",
    "    \"\"\"Write a list of dictionaries to a CSV file.\"\"\"\n",
    "    with open(output_file, 'w', newline='') as file:\n",
    "        writer = csv.DictWriter(file, fieldnames=headers)\n",
    "        writer.writeheader()\n",
    "        for data in data_list:\n",
    "            writer.writerow(data)\n",
    "\n",
    "def process_directory(directory_path, output_csv):\n",
    "    \"\"\"Process all JSON files in the directory and compile them into one CSV file.\"\"\"\n",
    "    all_data = []\n",
    "    fieldnames_set = set()\n",
    "\n",
    "    for filename in os.listdir(directory_path):\n",
    "        if filename.endswith('.json'):\n",
    "            json_path = os.path.join(directory_path, filename)\n",
    "            json_data = load_json(json_path)\n",
    "            extracted_data = extract_data(json_data)\n",
    "            all_data.append(extracted_data)\n",
    "            fieldnames_set.update(extracted_data.keys())\n",
    "\n",
    "    write_to_csv(all_data, sorted(list(fieldnames_set)), output_csv)\n",
    "\n",
    "# Example usage\n",
    "directory_path = '/home/cdsw/patient-records-jsons/'\n",
    "output_csv = '/home/cdsw/hl7_patient_pii.csv'\n",
    "process_directory(directory_path, output_csv)\n"
   ]
  }
 ],
 "metadata": {
  "kernelspec": {
   "display_name": "Python 3 (ipykernel)",
   "language": "python",
   "name": "python3"
  },
  "language_info": {
   "codemirror_mode": {
    "name": "ipython",
    "version": 3
   },
   "file_extension": ".py",
   "mimetype": "text/x-python",
   "name": "python",
   "nbconvert_exporter": "python",
   "pygments_lexer": "ipython3",
   "version": "3.10.13"
  }
 },
 "nbformat": 4,
 "nbformat_minor": 5
}
