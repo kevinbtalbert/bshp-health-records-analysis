{
 "cells": [
  {
   "cell_type": "markdown",
   "id": "4761fe89-72db-43f5-ae9e-d86b75517376",
   "metadata": {},
   "source": [
    "# Extract Data from CDW and convert to CSV"
   ]
  },
  {
   "cell_type": "code",
   "execution_count": 1,
   "id": "3edf9301-1080-430d-9596-44345fb2faf1",
   "metadata": {
    "tags": []
   },
   "outputs": [],
   "source": [
    "import cml.data_v1 as cmldata\n",
    "\n",
    "# Set up connection to CDW\n",
    "CONNECTION_NAME = \"default-impala\"\n",
    "conn = cmldata.get_connection(CONNECTION_NAME)"
   ]
  },
  {
   "cell_type": "markdown",
   "id": "c6751814-5b8e-46cd-a660-4696b6829091",
   "metadata": {},
   "source": [
    "## Extract Benefits Data to CSV"
   ]
  },
  {
   "cell_type": "code",
   "execution_count": 2,
   "id": "cb5a2c7b-f3d7-4d1e-8f1a-7297cd654850",
   "metadata": {},
   "outputs": [],
   "source": [
    "# Export Pandas DataFrame to CSV\n",
    "SQL_QUERY = \"SELECT * FROM nasheb_hl7_demo.benefits\"\n",
    "dataframe = conn.get_pandas_dataframe(SQL_QUERY)\n",
    "\n",
    "# Uncomment below to observe output\n",
    "# print(dataframe.head(5))\n",
    "dataframe.to_csv('/home/cdsw/hl7_benefits.csv', encoding='utf-8', index=False)"
   ]
  },
  {
   "cell_type": "markdown",
   "id": "d86eb63b-c49d-44ae-b6ab-87ed25d4bf8a",
   "metadata": {},
   "source": [
    "## Extract Care Team Data to CSV"
   ]
  },
  {
   "cell_type": "code",
   "execution_count": 3,
   "id": "5278a955-0239-4622-b825-cf5354d4ed9e",
   "metadata": {},
   "outputs": [],
   "source": [
    "# Export Pandas DataFrame to CSV\n",
    "SQL_QUERY = \"SELECT * FROM nasheb_hl7_demo.careteam\"\n",
    "dataframe = conn.get_pandas_dataframe(SQL_QUERY)\n",
    "\n",
    "# Uncomment below to observe output\n",
    "# print(dataframe.head(5))\n",
    "dataframe.to_csv('/home/cdsw/hl7_careteam.csv', encoding='utf-8', index=False)"
   ]
  },
  {
   "cell_type": "markdown",
   "id": "99fb90ee-1c7b-43a4-9e54-f10e95c2d906",
   "metadata": {},
   "source": [
    "## Extract Claims Data to CSV"
   ]
  },
  {
   "cell_type": "code",
   "execution_count": 4,
   "id": "b6208983-047e-4091-baf8-370366817871",
   "metadata": {},
   "outputs": [],
   "source": [
    "# Export Pandas DataFrame to CSV\n",
    "SQL_QUERY = \"SELECT * FROM nasheb_hl7_demo.claims\"\n",
    "dataframe = conn.get_pandas_dataframe(SQL_QUERY)\n",
    "\n",
    "# Uncomment below to observe output\n",
    "# print(dataframe.head(5))\n",
    "dataframe.to_csv('/home/cdsw/hl7_claims.csv', encoding='utf-8', index=False)"
   ]
  },
  {
   "cell_type": "markdown",
   "id": "77f4d9e4-9e7d-486a-b3dc-50f13cf3a482",
   "metadata": {},
   "source": [
    "## Extract Condition Data to CSV"
   ]
  },
  {
   "cell_type": "code",
   "execution_count": 5,
   "id": "752aa9a6-0062-4717-870f-865951ea0df3",
   "metadata": {
    "tags": []
   },
   "outputs": [],
   "source": [
    "# Export Pandas DataFrame to CSV\n",
    "SQL_QUERY = \"SELECT * FROM nasheb_hl7_demo.`condition`\"\n",
    "dataframe = conn.get_pandas_dataframe(SQL_QUERY)\n",
    "\n",
    "# Uncomment below to observe output\n",
    "# print(dataframe.head(5))\n",
    "dataframe.to_csv('/home/cdsw/hl7_condition.csv', encoding='utf-8', index=False)"
   ]
  },
  {
   "cell_type": "code",
   "execution_count": 6,
   "id": "3a9170d9-a368-4baa-a995-c51dadc3da0c",
   "metadata": {
    "tags": []
   },
   "outputs": [
    {
     "data": {
      "text/plain": [
       "<impala.hiveserver2.HiveServer2Connection at 0x7f138c26ead0>"
      ]
     },
     "execution_count": 6,
     "metadata": {},
     "output_type": "execute_result"
    }
   ],
   "source": [
    "# Closing the connection\n",
    "conn.close()"
   ]
  }
 ],
 "metadata": {
  "kernelspec": {
   "display_name": "Python 3 (ipykernel)",
   "language": "python",
   "name": "python3"
  },
  "language_info": {
   "codemirror_mode": {
    "name": "ipython",
    "version": 3
   },
   "file_extension": ".py",
   "mimetype": "text/x-python",
   "name": "python",
   "nbconvert_exporter": "python",
   "pygments_lexer": "ipython3",
   "version": "3.10.13"
  }
 },
 "nbformat": 4,
 "nbformat_minor": 5
}
