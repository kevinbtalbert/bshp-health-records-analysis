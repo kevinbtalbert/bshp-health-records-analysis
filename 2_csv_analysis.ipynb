{
 "cells": [
  {
   "cell_type": "markdown",
   "id": "c74f8b20-eb3b-4b41-935b-96afdb76a86f",
   "metadata": {},
   "source": [
    "# Analysis with CSV Extracts"
   ]
  },
  {
   "cell_type": "code",
   "execution_count": 1,
   "id": "840e10be-1f5b-472e-ae06-0388b355a6f1",
   "metadata": {
    "tags": []
   },
   "outputs": [
    {
     "name": "stdout",
     "output_type": "stream",
     "text": [
      "Columns in conditions_df: Index(['fullurl', 'condition_id', 'clinical_status', 'verification_status',\n",
      "       'condition_category', 'condition_code', 'condition_display',\n",
      "       'condition_text', 'subject_reference', 'encounter_reference',\n",
      "       'onsetdatetime', 'recordeddate', 'filename'],\n",
      "      dtype='object')\n",
      "Columns in claims_df: Index(['item_sequence', 'product_service_code', 'product_service_display',\n",
      "       'product_service_text', 'net_value', 'net_currency',\n",
      "       'encounter_reference', 'diagnosis_sequence', 'filename', 'fullurl',\n",
      "       'claim_id', 'status', 'claim_type', 'use', 'patient_reference',\n",
      "       'patient_display', 'provider_reference', 'provider_display',\n",
      "       'billable_period_start', 'billable_period_end', 'created',\n",
      "       'total_value', 'total_currency'],\n",
      "      dtype='object')\n"
     ]
    }
   ],
   "source": [
    "# Step 1: Import Necessary Libraries\n",
    "import pandas as pd\n",
    "import matplotlib.pyplot as plt\n",
    "import seaborn as sns\n",
    "from datetime import datetime\n",
    "\n",
    "# Step 2: Load Data\n",
    "conditions_path = \"/home/cdsw/exported-data/hl7_condition.csv\"\n",
    "claims_path = \"/home/cdsw/exported-data/hl7_claims.csv\"\n",
    "careteam_path = \"/home/cdsw/exported-data/hl7_careteam.csv\"\n",
    "benefits_path = \"/home/cdsw/exported-data/hl7_benefits.csv\"\n",
    "\n",
    "conditions_df = pd.read_csv(conditions_path, quotechar='\"')\n",
    "claims_df = pd.read_csv(claims_path, quotechar='\"')\n",
    "careteam_df = pd.read_csv(careteam_path, quotechar='\"')\n",
    "benefits_df = pd.read_csv(benefits_path, quotechar='\"')\n",
    "\n",
    "# Step 3: Data Preprocessing\n",
    "# Example: Standardize column names, handle missing data, etc.\n",
    "def preprocess_data(df):\n",
    "    for col in df.columns:\n",
    "        if df[col].dtype == object:\n",
    "            df[col] = df[col].str.strip('\"')\n",
    "    return df\n",
    "\n",
    "conditions_df = preprocess_data(conditions_df)\n",
    "claims_df = preprocess_data(claims_df)\n",
    "careteam_df = preprocess_data(careteam_df)\n",
    "benefits_df = preprocess_data(benefits_df)\n",
    "\n",
    "# Print column names to identify the correct merging keys\n",
    "print(\"Columns in conditions_df:\", conditions_df.columns)\n",
    "print(\"Columns in claims_df:\", claims_df.columns)\n"
   ]
  },
  {
   "cell_type": "code",
   "execution_count": 26,
   "id": "9de4ab09-3398-429a-ad25-b3c0422eeab8",
   "metadata": {
    "tags": []
   },
   "outputs": [
    {
     "name": "stdout",
     "output_type": "stream",
     "text": [
      "count                              379\n",
      "mean     2006-06-11 19:21:59.622691328\n",
      "min                1940-09-04 07:50:00\n",
      "25%                1991-11-17 08:17:24\n",
      "50%                2015-10-25 19:58:41\n",
      "75%                2020-05-13 12:16:16\n",
      "max                2024-03-23 01:24:32\n",
      "Name: created, dtype: object\n",
      "count                              379\n",
      "mean     2006-06-11 18:36:03.496042368\n",
      "min                1940-09-04 06:56:35\n",
      "25%                1991-11-17 07:28:01\n",
      "50%                2015-10-25 19:19:04\n",
      "75%                2020-05-13 11:21:09\n",
      "max                2024-03-23 00:34:37\n",
      "Name: onsetdatetime, dtype: object\n",
      "0     0\n",
      "1     0\n",
      "2     0\n",
      "3     0\n",
      "4     0\n",
      "5     0\n",
      "6     0\n",
      "7     0\n",
      "8     0\n",
      "9     0\n",
      "10    0\n",
      "11    0\n",
      "12    0\n",
      "13    0\n",
      "14    0\n",
      "15    0\n",
      "16    0\n",
      "17    0\n",
      "18    0\n",
      "19    0\n",
      "Name: days_until_claim, dtype: int64\n"
     ]
    },
    {
     "data": {
      "image/png": "[encoded data removed]",
      "text/plain": [
       "<Figure size 720x432 with 1 Axes>"
      ]
     },
     "metadata": {
      "needs_background": "light"
     },
     "output_type": "display_data"
    }
   ],
   "source": [
    "# Step 3: Data Preprocessing\n",
    "# Convert date columns to datetime objects and fill missing values\n",
    "conditions_df['onsetdatetime'] = pd.to_datetime(conditions_df['onsetdatetime'], errors='coerce', format='%Y-%m-%dT%H:%M:%S%z')\n",
    "conditions_df['recordeddate'] = pd.to_datetime(conditions_df['recordeddate'], errors='coerce', format='%Y-%m-%dT%H:%M:%S%z')\n",
    "\n",
    "# Rename 'subject_reference' in conditions_df to 'patient_reference' to match claims_df for merging\n",
    "conditions_df.rename(columns={'subject_reference': 'patient_reference'}, inplace=True)\n",
    "\n",
    "# Filter for Prediabetes conditions\n",
    "prediabetes_df = conditions_df[conditions_df['condition_display'].str.contains(\"Prediabetes\", na=False)]\n",
    "\n",
    "# Step 4: Analysis of Follow-up Encounters\n",
    "# Merge conditions with claims to see follow-up treatments (ensure merge keys are correctly set)\n",
    "prediabetes_claims_df = pd.merge(prediabetes_df, claims_df, on=\"patient_reference\", how=\"left\")\n",
    "# prediabetes_claims_df['created'] = pd.to_datetime(prediabetes_claims_df['created'], errors='coerce', format='%Y-%m-%d')\n",
    "\n",
    "# Convert both datetime columns to the same timezone setting, either both naive or both aware\n",
    "# Convert 'created' column to datetime without specifying the format\n",
    "# Pandas will infer the ISO 8601 format correctly\n",
    "prediabetes_claims_df['created'] = pd.to_datetime(prediabetes_claims_df['created'], errors='coerce')\n",
    "\n",
    "# If you want to remove the timezone information and make the datetime objects naive\n",
    "prediabetes_claims_df['created'] = prediabetes_claims_df['created'].dt.tz_localize(None)\n",
    "\n",
    "# Make sure 'onsetdatetime' is also timezone-naive\n",
    "prediabetes_claims_df['onsetdatetime'] = pd.to_datetime(prediabetes_claims_df['onsetdatetime'], errors='coerce').dt.tz_localize(None)\n",
    "\n",
    "# Now both columns are timezone-naive and you can calculate the difference\n",
    "prediabetes_claims_df['days_until_claim'] = (prediabetes_claims_df['created'] - prediabetes_claims_df['onsetdatetime']).dt.days\n",
    "\n",
    "\n",
    "# # Visualize the distribution of days until first claim\n",
    "# plt.figure(figsize=(10, 6))\n",
    "# sns.histplot(prediabetes_claims_df['days_until_claim'].dropna(), bins=30, kde=True)\n",
    "# plt.title('Distribution of Days Until First Claim After Prediabetes Diagnosis')\n",
    "# plt.xlabel('Days')\n",
    "# plt.ylabel('Frequency')\n",
    "# plt.show()\n",
    "\n",
    "# Check the range of dates in the 'created' and 'onsetdatetime' columns\n",
    "print(prediabetes_claims_df['created'].describe())\n",
    "print(prediabetes_claims_df['onsetdatetime'].describe())\n",
    "\n",
    "# Inspect the first few rows of the calculated 'days_until_claim' to ensure they are sensible\n",
    "print(prediabetes_claims_df['days_until_claim'].head(20))\n",
    "\n",
    "# Plot a detailed histogram\n",
    "plt.figure(figsize=(10, 6))\n",
    "sns.histplot(prediabetes_claims_df.loc[prediabetes_claims_df['days_until_claim'].notnull(), 'days_until_claim'], bins=50, kde=True)\n",
    "plt.title('Refined Distribution of Days Until First Claim After Prediabetes Diagnosis')\n",
    "plt.xlabel('Days')\n",
    "plt.ylabel('Frequency')\n",
    "plt.xlim(-30, 365)  # Adjust the range as needed to focus on the most relevant data\n",
    "plt.show()\n"
   ]
  },
  {
   "cell_type": "code",
   "execution_count": null,
   "id": "f94845ca-5ef7-40de-abf4-23bfcdcc7229",
   "metadata": {},
   "outputs": [],
   "source": []
  },
  {
   "cell_type": "code",
   "execution_count": null,
   "id": "4ea15094-e788-4ff2-96b8-ae2de2d6a723",
   "metadata": {},
   "outputs": [],
   "source": []
  }
 ],
 "metadata": {
  "kernelspec": {
   "display_name": "Python 3 (ipykernel)",
   "language": "python",
   "name": "python3"
  },
  "language_info": {
   "codemirror_mode": {
    "name": "ipython",
    "version": 3
   },
   "file_extension": ".py",
   "mimetype": "text/x-python",
   "name": "python",
   "nbconvert_exporter": "python",
   "pygments_lexer": "ipython3",
   "version": "3.10.13"
  }
 },
 "nbformat": 4,
 "nbformat_minor": 5
}
